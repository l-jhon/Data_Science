{
 "cells": [
  {
   "cell_type": "code",
   "execution_count": 1,
   "metadata": {},
   "outputs": [],
   "source": [
    "#Exercícios de fixação de Numpy"
   ]
  },
  {
   "cell_type": "code",
   "execution_count": 2,
   "metadata": {},
   "outputs": [],
   "source": [
    "import numpy as np"
   ]
  },
  {
   "cell_type": "code",
   "execution_count": 4,
   "metadata": {},
   "outputs": [
    {
     "data": {
      "text/plain": [
       "array([0, 1, 2, 3, 4, 5, 6, 7, 8, 9])"
      ]
     },
     "execution_count": 4,
     "metadata": {},
     "output_type": "execute_result"
    }
   ],
   "source": [
    "#Criando uma matriz 1D com números de 0 a 9\n",
    "\n",
    "array = np.array([0,1,2,3,4,5,6,7,8,9])\n",
    "array"
   ]
  },
  {
   "cell_type": "code",
   "execution_count": 7,
   "metadata": {},
   "outputs": [
    {
     "data": {
      "text/plain": [
       "array([[ True,  True,  True],\n",
       "       [ True,  True,  True],\n",
       "       [ True,  True,  True]])"
      ]
     },
     "execution_count": 7,
     "metadata": {},
     "output_type": "execute_result"
    }
   ],
   "source": [
    "#Criando uma matriz booleana 3x3 com 'True'\n",
    "\n",
    "mt_bool = np.array([[True,True,True],\n",
    "                   [True, True, True],\n",
    "                   [True, True, True]])\n",
    "\n",
    "mt_bool"
   ]
  },
  {
   "cell_type": "code",
   "execution_count": 38,
   "metadata": {},
   "outputs": [
    {
     "data": {
      "text/plain": [
       "array([1, 3, 5, 7, 9])"
      ]
     },
     "execution_count": 38,
     "metadata": {},
     "output_type": "execute_result"
    }
   ],
   "source": [
    "#E#xtraindo todos os números ímpares de 'arr'\n",
    "\n",
    "arr = np.array([0,1,2,3,4,5,6,7,8,9])\n",
    "valores_impares = [x for x in arr if x % 2 != 0]\n",
    "arr = np.array(valores_impares)\n",
    "arr"
   ]
  },
  {
   "cell_type": "code",
   "execution_count": 40,
   "metadata": {},
   "outputs": [
    {
     "data": {
      "text/plain": [
       "array([ 0, -1,  2, -1,  4, -1,  6, -1,  8, -1])"
      ]
     },
     "execution_count": 40,
     "metadata": {},
     "output_type": "execute_result"
    }
   ],
   "source": [
    "# Substituindo todos os números ímpares arr por -1\n",
    "\n",
    "arr = np.array([0,1,2,3,4,5,6,7,8,9])\n",
    "for i, v in enumerate(arr):\n",
    "    if v % 2 != 0:\n",
    "        arr[i] = -1\n",
    "    else:\n",
    "        None\n",
    "arr"
   ]
  },
  {
   "cell_type": "code",
   "execution_count": 45,
   "metadata": {},
   "outputs": [
    {
     "name": "stdout",
     "output_type": "stream",
     "text": [
      "arr [0 1 2 3 4 5 6 7 8 9]\n",
      "new_arr [ 0 -1  2 -1  4 -1  6 -1  8 -1]\n"
     ]
    }
   ],
   "source": [
    "# Substituindo todos os números ímpares em arr com -1 sem alterar arr\n",
    "\n",
    "arr = np.array([0,1,2,3,4,5,6,7,8,9])\n",
    "new_arr = arr.copy()\n",
    "\n",
    "for i, v in enumerate(new_arr):\n",
    "    if v % 2 != 0:\n",
    "        new_arr[i] = -1\n",
    "    else:\n",
    "        None\n",
    "print('arr', arr)\n",
    "print('new_arr', new_arr)"
   ]
  },
  {
   "cell_type": "code",
   "execution_count": 83,
   "metadata": {},
   "outputs": [
    {
     "data": {
      "text/plain": [
       "array([[0, 1, 2, 3, 4],\n",
       "       [5, 6, 7, 8, 9]])"
      ]
     },
     "execution_count": 83,
     "metadata": {},
     "output_type": "execute_result"
    }
   ],
   "source": [
    "# Convertendo uma matriz 1D para uma mtriz 2D de duas linhas\n",
    "\n",
    "arr = np.arange(0,10)\n",
    "arr = arr.reshape((2, 5))\n",
    "arr"
   ]
  },
  {
   "cell_type": "code",
   "execution_count": 102,
   "metadata": {},
   "outputs": [
    {
     "data": {
      "text/plain": [
       "array([[0, 1, 2, 3, 4],\n",
       "       [5, 6, 7, 8, 9],\n",
       "       [1, 1, 1, 1, 1],\n",
       "       [1, 1, 1, 1, 1]])"
      ]
     },
     "execution_count": 102,
     "metadata": {},
     "output_type": "execute_result"
    }
   ],
   "source": [
    "# Empilhando matrizes verticalmente\n",
    "\n",
    "a = np.arange(10).reshape(2, -1) # Matriz com 10 elementos de 0 a 9\n",
    "b = np.repeat(1, 10).reshape(2,-1) # Matriz com 10 elementos iguais a 1\n",
    "\n",
    "new_matriz = np.concatenate((a,b), axis=0)\n",
    "new_matriz"
   ]
  },
  {
   "cell_type": "code",
   "execution_count": 103,
   "metadata": {},
   "outputs": [
    {
     "data": {
      "text/plain": [
       "array([[0, 1, 2, 3, 4, 1, 1, 1, 1, 1],\n",
       "       [5, 6, 7, 8, 9, 1, 1, 1, 1, 1]])"
      ]
     },
     "execution_count": 103,
     "metadata": {},
     "output_type": "execute_result"
    }
   ],
   "source": [
    "# Empilhando matrizes horizontalmente\n",
    "\n",
    "a = np.arange(10).reshape(2, -1) # Matriz com 10 elementos de 0 a 9\n",
    "b = np.repeat(1, 10).reshape(2,-1) # Matriz com 10 elementos iguais a 1\n",
    "\n",
    "new_matriz = np.concatenate((a,b), axis=1)\n",
    "new_matriz"
   ]
  },
  {
   "cell_type": "code",
   "execution_count": 120,
   "metadata": {},
   "outputs": [
    {
     "data": {
      "text/plain": [
       "array([1, 1, 1, 2, 2, 2, 3, 3, 3, 1, 2, 3, 1, 2, 3, 1, 2, 3])"
      ]
     },
     "execution_count": 120,
     "metadata": {},
     "output_type": "execute_result"
    }
   ],
   "source": [
    "# Criado um padrão com base na matriz 'a'\n",
    "\n",
    "a = np.array([1,2,3])\n",
    "b = np.repeat(((1,1,1), (2,2,2), (3,3,3)), 1)\n",
    "c = np.concatenate((b, a, a, a), axis = 0)\n",
    "c"
   ]
  },
  {
   "cell_type": "code",
   "execution_count": 179,
   "metadata": {},
   "outputs": [
    {
     "data": {
      "text/plain": [
       "7.9"
      ]
     },
     "execution_count": 179,
     "metadata": {},
     "output_type": "execute_result"
    }
   ],
   "source": [
    "# Exercícios relacionados ao dataset Irís\n",
    "\n",
    "url = 'https://archive.ics.uci.edu/ml/machine-learning-databases/iris/iris.data'\n",
    "sepallength = np.genfromtxt(url, delimiter=',', dtype='float', usecols=[0])\n",
    "\n",
    "sepallenght.max()"
   ]
  },
  {
   "cell_type": "code",
   "execution_count": 180,
   "metadata": {},
   "outputs": [],
   "source": [
    "# Filtrando as linhas de iris_2d que possuem petallength (coluna 3) > 1.5 e sepallenght (coluna 1) < 5.0\n",
    "\n",
    "url = 'https://archive.ics.uci.edu/ml/machine-learning-databases/iris/iris.data'\n",
    "iris_2d = np.genfromtxt(url, delimiter=',', dtype='float', usecols=[0,1,2,3])\n",
    "\n",
    "sepallength_lower = list([x for x in iris_2d[:, 0] if x < 5.0])\n",
    "petallength_larger = list([ x for x in iris_2d[:, 2] if x > 1.5])"
   ]
  },
  {
   "cell_type": "code",
   "execution_count": 184,
   "metadata": {},
   "outputs": [],
   "source": [
    "# Selecionando as linhas de iris_2d que não tem nenhum valor 'Nulo'\n",
    "\n",
    "url = 'https://archive.ics.uci.edu/ml/machine-learning-databases/iris/iris.data'\n",
    "iris_2d = np.genfromtxt(url, delimiter=',', dtype='float', usecols=[0,1,2,3])"
   ]
  },
  {
   "cell_type": "code",
   "execution_count": 2,
   "metadata": {},
   "outputs": [],
   "source": [
    "# Calculando a quantidade de vezes que um número aparece em cada linha da matriz\n",
    "\n",
    "#Exemplo: na linha [9,9,4,8,8,1,5,3,6,3]\n",
    "# Vamos criar uma linha com a frequência de cada número, sendo de 1 a 10\n",
    "# [1,0,2,1,1,0,0,2,2,0] está é a frequência em que os números aparecem\n",
    "#  1 2 3 4 5 6 7 8 9 10\n",
    "\n",
    "from operator import itemgetter\n",
    "import numpy as np\n",
    "\n",
    "arr = np.random.randint(1,11, size=(6,10))\n",
    "new_array = np.zeros((6,10))\n",
    "n = 0\n",
    "\n",
    "while(n < 6):\n",
    "    dic = {}\n",
    "    for i in arr[n,:]:\n",
    "        if i in dic:\n",
    "            dic[i] = dic[i] + 1\n",
    "        else:\n",
    "            dic[i] = 1\n",
    "    \n",
    "        for k, v in zip(dic, dic.values()):\n",
    "            new_array[n, k-1] = v\n",
    "    n = n + 1\n",
    "\n",
    "#dic = dict(sorted(dic.items(), key=itemgetter(0), reverse=False))"
   ]
  },
  {
   "cell_type": "code",
   "execution_count": 3,
   "metadata": {},
   "outputs": [
    {
     "data": {
      "text/plain": [
       "array([[ 3,  2, 10,  1,  4,  3,  6,  5,  8,  5],\n",
       "       [ 9,  1,  4,  8,  5,  4,  5, 10,  2,  3],\n",
       "       [ 4,  1,  5,  4, 10, 10,  5,  7,  4,  4],\n",
       "       [ 7,  4,  4,  2,  4,  7,  9, 10,  3, 10],\n",
       "       [10,  4,  8,  9,  8,  1,  5,  9,  9,  5],\n",
       "       [ 8,  9,  6, 10,  3,  3,  3,  6,  6, 10]])"
      ]
     },
     "execution_count": 3,
     "metadata": {},
     "output_type": "execute_result"
    }
   ],
   "source": [
    "arr"
   ]
  },
  {
   "cell_type": "code",
   "execution_count": 4,
   "metadata": {},
   "outputs": [
    {
     "data": {
      "text/plain": [
       "array([[1., 1., 2., 1., 2., 1., 0., 1., 0., 1.],\n",
       "       [1., 1., 1., 2., 2., 0., 0., 1., 1., 1.],\n",
       "       [1., 0., 0., 4., 2., 0., 1., 0., 0., 2.],\n",
       "       [0., 1., 1., 3., 0., 0., 2., 0., 1., 2.],\n",
       "       [1., 0., 0., 1., 2., 0., 0., 2., 3., 1.],\n",
       "       [0., 0., 3., 0., 0., 3., 0., 1., 1., 2.]])"
      ]
     },
     "execution_count": 4,
     "metadata": {},
     "output_type": "execute_result"
    }
   ],
   "source": [
    "new_array"
   ]
  },
  {
   "cell_type": "code",
   "execution_count": 295,
   "metadata": {},
   "outputs": [
    {
     "data": {
      "text/plain": [
       "array([5, 3])"
      ]
     },
     "execution_count": 295,
     "metadata": {},
     "output_type": "execute_result"
    }
   ],
   "source": [
    "# Encontrando todos os picos em uma matriz 1D numpy 'a'. Picos são pontos cercados por valores menores em ambos os lados\n",
    "\n",
    "a = np.array([1, 8, 9, 1, 2, 10, 0, 1])\n",
    "b = a.argmax()\n",
    "a = np.delete(a, b)\n",
    "c = a.argmax() + 1\n",
    "\n",
    "picos = np.array([b,c])\n",
    "picos"
   ]
  },
  {
   "cell_type": "code",
   "execution_count": null,
   "metadata": {},
   "outputs": [],
   "source": []
  }
 ],
 "metadata": {
  "kernelspec": {
   "display_name": "Python 3",
   "language": "python",
   "name": "python3"
  },
  "language_info": {
   "codemirror_mode": {
    "name": "ipython",
    "version": 3
   },
   "file_extension": ".py",
   "mimetype": "text/x-python",
   "name": "python",
   "nbconvert_exporter": "python",
   "pygments_lexer": "ipython3",
   "version": "3.7.0"
  }
 },
 "nbformat": 4,
 "nbformat_minor": 2
}
