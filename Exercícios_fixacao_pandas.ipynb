{
 "cells": [
  {
   "cell_type": "code",
   "execution_count": 1,
   "metadata": {},
   "outputs": [],
   "source": [
    "import pandas as pd"
   ]
  },
  {
   "cell_type": "code",
   "execution_count": 2,
   "metadata": {},
   "outputs": [
    {
     "name": "stdout",
     "output_type": "stream",
     "text": [
      "\n",
      "INSTALLED VERSIONS\n",
      "------------------\n",
      "commit: None\n",
      "python: 3.7.0.final.0\n",
      "python-bits: 64\n",
      "OS: Linux\n",
      "OS-release: 4.15.0-20-generic\n",
      "machine: x86_64\n",
      "processor: x86_64\n",
      "byteorder: little\n",
      "LC_ALL: None\n",
      "LANG: pt_BR.UTF-8\n",
      "LOCALE: pt_BR.UTF-8\n",
      "\n",
      "pandas: 0.23.4\n",
      "pytest: 3.8.0\n",
      "pip: 18.1\n",
      "setuptools: 40.2.0\n",
      "Cython: 0.28.5\n",
      "numpy: 1.15.1\n",
      "scipy: 1.1.0\n",
      "pyarrow: None\n",
      "xarray: None\n",
      "IPython: 6.5.0\n",
      "sphinx: 1.7.9\n",
      "patsy: 0.5.0\n",
      "dateutil: 2.7.3\n",
      "pytz: 2018.5\n",
      "blosc: None\n",
      "bottleneck: 1.2.1\n",
      "tables: 3.4.4\n",
      "numexpr: 2.6.8\n",
      "feather: None\n",
      "matplotlib: 2.2.3\n",
      "openpyxl: 2.5.6\n",
      "xlrd: 1.1.0\n",
      "xlwt: 1.3.0\n",
      "xlsxwriter: 1.1.0\n",
      "lxml: 4.2.5\n",
      "bs4: 4.6.3\n",
      "html5lib: 1.0.1\n",
      "sqlalchemy: 1.2.11\n",
      "pymysql: None\n",
      "psycopg2: None\n",
      "jinja2: 2.10\n",
      "s3fs: None\n",
      "fastparquet: None\n",
      "pandas_gbq: None\n",
      "pandas_datareader: None\n"
     ]
    }
   ],
   "source": [
    "pd.show_versions()"
   ]
  },
  {
   "cell_type": "code",
   "execution_count": 3,
   "metadata": {},
   "outputs": [],
   "source": [
    "import numpy as np\n",
    "\n",
    "minhalista = list('abcdefghijklmnopqrstuvwxyz')\n",
    "meuarray = np.arange(26)\n",
    "meudict = dict(zip(minhalista, meuarray))"
   ]
  },
  {
   "cell_type": "code",
   "execution_count": 4,
   "metadata": {},
   "outputs": [],
   "source": [
    "serie = pd.Series((minhalista,meuarray,meudict))"
   ]
  },
  {
   "cell_type": "code",
   "execution_count": 5,
   "metadata": {},
   "outputs": [
    {
     "data": {
      "text/plain": [
       "0    [a, b, c, d, e, f, g, h, i, j, k, l, m, n, o, ...\n",
       "1    [0, 1, 2, 3, 4, 5, 6, 7, 8, 9, 10, 11, 12, 13,...\n",
       "2    {'a': 0, 'b': 1, 'c': 2, 'd': 3, 'e': 4, 'f': ...\n",
       "dtype: object"
      ]
     },
     "execution_count": 5,
     "metadata": {},
     "output_type": "execute_result"
    }
   ],
   "source": [
    "serie"
   ]
  },
  {
   "cell_type": "code",
   "execution_count": 6,
   "metadata": {},
   "outputs": [
    {
     "data": {
      "text/plain": [
       "0    [a, b, c, d, e, f, g, h, i, j, k, l, m, n, o, ...\n",
       "1    [0, 1, 2, 3, 4, 5, 6, 7, 8, 9, 10, 11, 12, 13,...\n",
       "2    {'a': 0, 'b': 1, 'c': 2, 'd': 3, 'e': 4, 'f': ...\n",
       "dtype: object"
      ]
     },
     "execution_count": 6,
     "metadata": {},
     "output_type": "execute_result"
    }
   ],
   "source": [
    "serie.head()"
   ]
  },
  {
   "cell_type": "code",
   "execution_count": 10,
   "metadata": {},
   "outputs": [],
   "source": [
    "ser = pd.Series(meudict)"
   ]
  },
  {
   "cell_type": "code",
   "execution_count": 11,
   "metadata": {},
   "outputs": [
    {
     "data": {
      "text/html": [
       "<div>\n",
       "<style scoped>\n",
       "    .dataframe tbody tr th:only-of-type {\n",
       "        vertical-align: middle;\n",
       "    }\n",
       "\n",
       "    .dataframe tbody tr th {\n",
       "        vertical-align: top;\n",
       "    }\n",
       "\n",
       "    .dataframe thead th {\n",
       "        text-align: right;\n",
       "    }\n",
       "</style>\n",
       "<table border=\"1\" class=\"dataframe\">\n",
       "  <thead>\n",
       "    <tr style=\"text-align: right;\">\n",
       "      <th></th>\n",
       "      <th>Índice</th>\n",
       "      <th>Valor</th>\n",
       "    </tr>\n",
       "  </thead>\n",
       "  <tbody>\n",
       "    <tr>\n",
       "      <th>0</th>\n",
       "      <td>a</td>\n",
       "      <td>0</td>\n",
       "    </tr>\n",
       "    <tr>\n",
       "      <th>1</th>\n",
       "      <td>b</td>\n",
       "      <td>1</td>\n",
       "    </tr>\n",
       "    <tr>\n",
       "      <th>2</th>\n",
       "      <td>c</td>\n",
       "      <td>2</td>\n",
       "    </tr>\n",
       "    <tr>\n",
       "      <th>3</th>\n",
       "      <td>d</td>\n",
       "      <td>3</td>\n",
       "    </tr>\n",
       "    <tr>\n",
       "      <th>4</th>\n",
       "      <td>e</td>\n",
       "      <td>4</td>\n",
       "    </tr>\n",
       "    <tr>\n",
       "      <th>5</th>\n",
       "      <td>f</td>\n",
       "      <td>5</td>\n",
       "    </tr>\n",
       "    <tr>\n",
       "      <th>6</th>\n",
       "      <td>g</td>\n",
       "      <td>6</td>\n",
       "    </tr>\n",
       "    <tr>\n",
       "      <th>7</th>\n",
       "      <td>h</td>\n",
       "      <td>7</td>\n",
       "    </tr>\n",
       "    <tr>\n",
       "      <th>8</th>\n",
       "      <td>i</td>\n",
       "      <td>8</td>\n",
       "    </tr>\n",
       "    <tr>\n",
       "      <th>9</th>\n",
       "      <td>j</td>\n",
       "      <td>9</td>\n",
       "    </tr>\n",
       "    <tr>\n",
       "      <th>10</th>\n",
       "      <td>k</td>\n",
       "      <td>10</td>\n",
       "    </tr>\n",
       "    <tr>\n",
       "      <th>11</th>\n",
       "      <td>l</td>\n",
       "      <td>11</td>\n",
       "    </tr>\n",
       "    <tr>\n",
       "      <th>12</th>\n",
       "      <td>m</td>\n",
       "      <td>12</td>\n",
       "    </tr>\n",
       "    <tr>\n",
       "      <th>13</th>\n",
       "      <td>n</td>\n",
       "      <td>13</td>\n",
       "    </tr>\n",
       "    <tr>\n",
       "      <th>14</th>\n",
       "      <td>o</td>\n",
       "      <td>14</td>\n",
       "    </tr>\n",
       "    <tr>\n",
       "      <th>15</th>\n",
       "      <td>p</td>\n",
       "      <td>15</td>\n",
       "    </tr>\n",
       "    <tr>\n",
       "      <th>16</th>\n",
       "      <td>q</td>\n",
       "      <td>16</td>\n",
       "    </tr>\n",
       "    <tr>\n",
       "      <th>17</th>\n",
       "      <td>r</td>\n",
       "      <td>17</td>\n",
       "    </tr>\n",
       "    <tr>\n",
       "      <th>18</th>\n",
       "      <td>s</td>\n",
       "      <td>18</td>\n",
       "    </tr>\n",
       "    <tr>\n",
       "      <th>19</th>\n",
       "      <td>t</td>\n",
       "      <td>19</td>\n",
       "    </tr>\n",
       "    <tr>\n",
       "      <th>20</th>\n",
       "      <td>u</td>\n",
       "      <td>20</td>\n",
       "    </tr>\n",
       "    <tr>\n",
       "      <th>21</th>\n",
       "      <td>v</td>\n",
       "      <td>21</td>\n",
       "    </tr>\n",
       "    <tr>\n",
       "      <th>22</th>\n",
       "      <td>w</td>\n",
       "      <td>22</td>\n",
       "    </tr>\n",
       "    <tr>\n",
       "      <th>23</th>\n",
       "      <td>x</td>\n",
       "      <td>23</td>\n",
       "    </tr>\n",
       "    <tr>\n",
       "      <th>24</th>\n",
       "      <td>y</td>\n",
       "      <td>24</td>\n",
       "    </tr>\n",
       "    <tr>\n",
       "      <th>25</th>\n",
       "      <td>z</td>\n",
       "      <td>25</td>\n",
       "    </tr>\n",
       "  </tbody>\n",
       "</table>\n",
       "</div>"
      ],
      "text/plain": [
       "   Índice  Valor\n",
       "0       a      0\n",
       "1       b      1\n",
       "2       c      2\n",
       "3       d      3\n",
       "4       e      4\n",
       "5       f      5\n",
       "6       g      6\n",
       "7       h      7\n",
       "8       i      8\n",
       "9       j      9\n",
       "10      k     10\n",
       "11      l     11\n",
       "12      m     12\n",
       "13      n     13\n",
       "14      o     14\n",
       "15      p     15\n",
       "16      q     16\n",
       "17      r     17\n",
       "18      s     18\n",
       "19      t     19\n",
       "20      u     20\n",
       "21      v     21\n",
       "22      w     22\n",
       "23      x     23\n",
       "24      y     24\n",
       "25      z     25"
      ]
     },
     "execution_count": 11,
     "metadata": {},
     "output_type": "execute_result"
    }
   ],
   "source": [
    "ser = pd.DataFrame({'Índice':ser.index, 'Valor':ser.values})\n",
    "ser"
   ]
  },
  {
   "cell_type": "code",
   "execution_count": 12,
   "metadata": {},
   "outputs": [],
   "source": [
    "ser1 = pd.Series(list('abcedfghijklmnopqrstuvwxyz'))\n",
    "ser2 = pd.Series(np.arange(26))"
   ]
  },
  {
   "cell_type": "code",
   "execution_count": 13,
   "metadata": {},
   "outputs": [],
   "source": [
    "df = pd.DataFrame([ser1,ser2])"
   ]
  },
  {
   "cell_type": "code",
   "execution_count": 14,
   "metadata": {},
   "outputs": [
    {
     "data": {
      "text/html": [
       "<div>\n",
       "<style scoped>\n",
       "    .dataframe tbody tr th:only-of-type {\n",
       "        vertical-align: middle;\n",
       "    }\n",
       "\n",
       "    .dataframe tbody tr th {\n",
       "        vertical-align: top;\n",
       "    }\n",
       "\n",
       "    .dataframe thead th {\n",
       "        text-align: right;\n",
       "    }\n",
       "</style>\n",
       "<table border=\"1\" class=\"dataframe\">\n",
       "  <thead>\n",
       "    <tr style=\"text-align: right;\">\n",
       "      <th></th>\n",
       "      <th>0</th>\n",
       "      <th>1</th>\n",
       "      <th>2</th>\n",
       "      <th>3</th>\n",
       "      <th>4</th>\n",
       "      <th>5</th>\n",
       "      <th>6</th>\n",
       "      <th>7</th>\n",
       "      <th>8</th>\n",
       "      <th>9</th>\n",
       "      <th>...</th>\n",
       "      <th>16</th>\n",
       "      <th>17</th>\n",
       "      <th>18</th>\n",
       "      <th>19</th>\n",
       "      <th>20</th>\n",
       "      <th>21</th>\n",
       "      <th>22</th>\n",
       "      <th>23</th>\n",
       "      <th>24</th>\n",
       "      <th>25</th>\n",
       "    </tr>\n",
       "  </thead>\n",
       "  <tbody>\n",
       "    <tr>\n",
       "      <th>0</th>\n",
       "      <td>a</td>\n",
       "      <td>b</td>\n",
       "      <td>c</td>\n",
       "      <td>e</td>\n",
       "      <td>d</td>\n",
       "      <td>f</td>\n",
       "      <td>g</td>\n",
       "      <td>h</td>\n",
       "      <td>i</td>\n",
       "      <td>j</td>\n",
       "      <td>...</td>\n",
       "      <td>q</td>\n",
       "      <td>r</td>\n",
       "      <td>s</td>\n",
       "      <td>t</td>\n",
       "      <td>u</td>\n",
       "      <td>v</td>\n",
       "      <td>w</td>\n",
       "      <td>x</td>\n",
       "      <td>y</td>\n",
       "      <td>z</td>\n",
       "    </tr>\n",
       "    <tr>\n",
       "      <th>1</th>\n",
       "      <td>0</td>\n",
       "      <td>1</td>\n",
       "      <td>2</td>\n",
       "      <td>3</td>\n",
       "      <td>4</td>\n",
       "      <td>5</td>\n",
       "      <td>6</td>\n",
       "      <td>7</td>\n",
       "      <td>8</td>\n",
       "      <td>9</td>\n",
       "      <td>...</td>\n",
       "      <td>16</td>\n",
       "      <td>17</td>\n",
       "      <td>18</td>\n",
       "      <td>19</td>\n",
       "      <td>20</td>\n",
       "      <td>21</td>\n",
       "      <td>22</td>\n",
       "      <td>23</td>\n",
       "      <td>24</td>\n",
       "      <td>25</td>\n",
       "    </tr>\n",
       "  </tbody>\n",
       "</table>\n",
       "<p>2 rows × 26 columns</p>\n",
       "</div>"
      ],
      "text/plain": [
       "  0  1  2  3  4  5  6  7  8  9  ...  16  17  18  19  20  21  22  23  24  25\n",
       "0  a  b  c  e  d  f  g  h  i  j ...   q   r   s   t   u   v   w   x   y   z\n",
       "1  0  1  2  3  4  5  6  7  8  9 ...  16  17  18  19  20  21  22  23  24  25\n",
       "\n",
       "[2 rows x 26 columns]"
      ]
     },
     "execution_count": 14,
     "metadata": {},
     "output_type": "execute_result"
    }
   ],
   "source": [
    "df.head()"
   ]
  },
  {
   "cell_type": "code",
   "execution_count": 16,
   "metadata": {},
   "outputs": [],
   "source": [
    "alfabeto = pd.Series(list('abcedfghijklmnopqrstuvwxyz'))"
   ]
  },
  {
   "cell_type": "code",
   "execution_count": 17,
   "metadata": {},
   "outputs": [
    {
     "data": {
      "text/plain": [
       "0    1\n",
       "1    2\n",
       "2    3\n",
       "dtype: int64"
      ]
     },
     "execution_count": 17,
     "metadata": {},
     "output_type": "execute_result"
    }
   ],
   "source": [
    "# Removendo da variável 'serie1' os itens que estão presentes em 'serie2'\n",
    "\n",
    "serie1 = pd.Series([1, 2, 3, 4, 5])\n",
    "serie2 = pd.Series([4, 5, 6, 7, 8])\n",
    "\n",
    "serie1 = serie1[~serie1.isin(serie2)] # O sinal de negação faz com que a função isin busque apenas elementos que constam na ser1 mas não constam na ser2\n",
    "serie1"
   ]
  },
  {
   "cell_type": "code",
   "execution_count": 18,
   "metadata": {},
   "outputs": [
    {
     "data": {
      "text/plain": [
       "0    1\n",
       "1    2\n",
       "2    3\n",
       "2    6\n",
       "3    7\n",
       "4    8\n",
       "dtype: int64"
      ]
     },
     "execution_count": 18,
     "metadata": {},
     "output_type": "execute_result"
    }
   ],
   "source": [
    "# Obtendo todos os itens de ser1 e ser2 não comuns em ambas as series\n",
    "\n",
    "serie1 = pd.Series([1, 2, 3, 4, 5])\n",
    "serie2 = pd.Series([4, 5, 6, 7, 8])\n",
    "\n",
    "serie1_new = serie1[~serie1.isin(serie2)] # só existem na serie1\n",
    "serie2_new = serie2[~serie2.isin(serie1)] # só existem na serie2 \n",
    "\n",
    "new_serie = serie1_new.append(serie2_new)\n",
    "new_serie"
   ]
  },
  {
   "cell_type": "code",
   "execution_count": 19,
   "metadata": {},
   "outputs": [],
   "source": [
    "# Calcule o mínimo, 25º percentil, mediana, 75º e o máximo de ‘ser’\n",
    "\n",
    "ser = pd.Series(np.random.normal(10, 5, 25))"
   ]
  },
  {
   "cell_type": "code",
   "execution_count": 33,
   "metadata": {},
   "outputs": [
    {
     "name": "stdout",
     "output_type": "stream",
     "text": [
      "Mńimo de ser:  -3.5360375233936185\n",
      "25º Percentil 6.286465725302683\n",
      "75º Percentil 14.013279431330165\n",
      "Max de 'ser' 18.70355343505168\n"
     ]
    },
    {
     "data": {
      "text/plain": [
       "0      0.296235\n",
       "1     13.221893\n",
       "2     15.576715\n",
       "3      8.020193\n",
       "4     12.382007\n",
       "5      2.438637\n",
       "6     14.013279\n",
       "7     -3.536038\n",
       "8     18.028140\n",
       "9      5.015315\n",
       "10    18.703553\n",
       "11     6.480315\n",
       "12    15.287925\n",
       "13     4.972012\n",
       "14    13.209910\n",
       "15    10.617508\n",
       "16    18.399020\n",
       "17    11.255709\n",
       "18    15.397558\n",
       "19     4.718668\n",
       "20     6.626036\n",
       "21     7.792188\n",
       "22    10.930343\n",
       "23     6.286466\n",
       "24     7.172759\n",
       "dtype: float64"
      ]
     },
     "execution_count": 33,
     "metadata": {},
     "output_type": "execute_result"
    }
   ],
   "source": [
    "percentil_2_5 = ser.quantile(q=0.25)\n",
    "percentil_7_5 = ser.quantile(q=0.75)\n",
    "max_ser = ser.max()\n",
    "min_ser = ser.min()\n",
    "\n",
    "print('Mńimo de ser: ', min_ser, end='\\n')\n",
    "print('25º Percentil', percentil_2_5, end='\\n')\n",
    "print('75º Percentil', percentil_7_5, end='\\n')\n",
    "print(\"Max de 'ser'\", max_ser)\n",
    "ser"
   ]
  },
  {
   "cell_type": "code",
   "execution_count": 116,
   "metadata": {},
   "outputs": [
    {
     "data": {
      "text/plain": [
       "0     2\n",
       "1     4\n",
       "2     1\n",
       "3     2\n",
       "4     3\n",
       "5     2\n",
       "6     3\n",
       "7     1\n",
       "8     1\n",
       "9     2\n",
       "10    4\n",
       "11    1\n",
       "dtype: int64"
      ]
     },
     "execution_count": 116,
     "metadata": {},
     "output_type": "execute_result"
    }
   ],
   "source": [
    "# Da variável ‘ser’, matenha os 2 ítens mais frequentes como estão e substitua todo o resto por ‘Outro’.\n",
    "\n",
    "np.random.RandomState(100)\n",
    "ser = pd.Series(np.random.randint(1, 5, [12]))\n",
    "ser"
   ]
  },
  {
   "cell_type": "code",
   "execution_count": 117,
   "metadata": {},
   "outputs": [
    {
     "name": "stdout",
     "output_type": "stream",
     "text": [
      "Valor e frequencia: {4: 2, 3: 2, 2: 4, 1: 4}\n",
      "Lista de frequencia do menor para o maior: [4, 3, 2, 1]\n",
      "Lista com elementos que devem ser substituidos: [4, 3]\n"
     ]
    },
    {
     "data": {
      "text/plain": [
       "0         2\n",
       "1     Outro\n",
       "2         1\n",
       "3         2\n",
       "4     Outro\n",
       "5         2\n",
       "6     Outro\n",
       "7         1\n",
       "8         1\n",
       "9         2\n",
       "10    Outro\n",
       "11        1\n",
       "dtype: object"
      ]
     },
     "execution_count": 117,
     "metadata": {},
     "output_type": "execute_result"
    }
   ],
   "source": [
    "from operator import itemgetter\n",
    "\n",
    "dic = {}\n",
    "\n",
    "for i, v in enumerate(ser):\n",
    "    if v in dic:\n",
    "        dic[v] = dic[v] + 1\n",
    "    else:\n",
    "        dic[v] = 1\n",
    "dic = dict(sorted(dic.items(), key=itemgetter(1), reverse=False)) #ordenando dict pelos valores / use itemgetter(0) para order pela chave\n",
    "lista = list(dic)\n",
    "\n",
    "print('Valor e frequencia:', dic)\n",
    "print('Lista de frequencia do menor para o maior:', lista)\n",
    "\n",
    "del lista[-1]\n",
    "del lista[-1]\n",
    "\n",
    "print('Lista com elementos que devem ser substituidos:', lista)\n",
    "\n",
    "for i in lista:\n",
    "    ser.replace(i, 'Outro', inplace=True)\n",
    "ser"
   ]
  },
  {
   "cell_type": "code",
   "execution_count": 141,
   "metadata": {},
   "outputs": [
    {
     "name": "stdout",
     "output_type": "stream",
     "text": [
      "0     4\n",
      "1     3\n",
      "2     4\n",
      "3     2\n",
      "4     3\n",
      "5     1\n",
      "6     1\n",
      "7     3\n",
      "8     1\n",
      "9     2\n",
      "10    3\n",
      "11    2\n",
      "dtype: int64\n",
      "3    4\n",
      "2    3\n",
      "1    3\n",
      "4    2\n",
      "dtype: int64\n"
     ]
    }
   ],
   "source": [
    "#Segunda solução\n",
    "\n",
    "np.random.RandomState(100)\n",
    "ser = pd.Series(np.random.randint(1, 5, [12]))\n",
    "print(ser)\n",
    "print(ser.value_counts()) # contando a quantidade de vezes que cada elemento da serie se repete"
   ]
  },
  {
   "cell_type": "code",
   "execution_count": 144,
   "metadata": {},
   "outputs": [
    {
     "data": {
      "text/plain": [
       "0     Outros\n",
       "1          3\n",
       "2     Outros\n",
       "3     Outros\n",
       "4          3\n",
       "5     Outros\n",
       "6     Outros\n",
       "7          3\n",
       "8     Outros\n",
       "9     Outros\n",
       "10         3\n",
       "11    Outros\n",
       "dtype: object"
      ]
     },
     "execution_count": 144,
     "metadata": {},
     "output_type": "execute_result"
    }
   ],
   "source": [
    "# Faz um slicing na serie, separando os 2 elementos com mais frequencias\n",
    "# Faz um NOT IN, verificando quais elementos não estão no intervalo informado( index[:2])\n",
    "# No lugar desses elementos é colocada a string 'Outros'\n",
    "\n",
    "ser[~ser.isin(ser.value_counts().index[:2])] = 'Outros'\n",
    "ser"
   ]
  },
  {
   "cell_type": "code",
   "execution_count": 157,
   "metadata": {},
   "outputs": [],
   "source": [
    "#Coloque a série ‘ser’ em 10 decílios(decile) iguais e substitua os valores pelo decil que cada elemento representa\n",
    "\n",
    "ser = pd.Series(np.random.random(20))"
   ]
  },
  {
   "cell_type": "code",
   "execution_count": 158,
   "metadata": {},
   "outputs": [
    {
     "data": {
      "text/plain": [
       "0     0.380760\n",
       "1     0.123701\n",
       "2     0.262324\n",
       "3     0.153406\n",
       "4     0.983127\n",
       "5     0.687946\n",
       "6     0.949245\n",
       "7     0.219424\n",
       "8     0.350218\n",
       "9     0.397932\n",
       "10    0.573525\n",
       "11    0.680451\n",
       "12    0.956395\n",
       "13    0.658875\n",
       "14    0.647507\n",
       "15    0.453349\n",
       "16    0.141215\n",
       "17    0.425492\n",
       "18    0.959216\n",
       "19    0.546031\n",
       "dtype: float64"
      ]
     },
     "execution_count": 158,
     "metadata": {},
     "output_type": "execute_result"
    }
   ],
   "source": [
    "ser"
   ]
  },
  {
   "cell_type": "code",
   "execution_count": 159,
   "metadata": {},
   "outputs": [],
   "source": [
    "ser = pd.qcut(ser, q=[0,0.1, 0.2, 0.3, 0.4, 0.5, 0.6, 0.7, 0.8, 0.9, 1.0], \n",
    "              labels=['1st', '2nd', '3rd', '4th', '5th', '6th', '7th', '8th', '9th', '10th'])"
   ]
  },
  {
   "cell_type": "code",
   "execution_count": 160,
   "metadata": {},
   "outputs": [
    {
     "data": {
      "text/plain": [
       "0      4th\n",
       "1      1st\n",
       "2      3rd\n",
       "3      2nd\n",
       "4     10th\n",
       "5      8th\n",
       "6      9th\n",
       "7      2nd\n",
       "8      3rd\n",
       "9      4th\n",
       "10     6th\n",
       "11     8th\n",
       "12     9th\n",
       "13     7th\n",
       "14     7th\n",
       "15     5th\n",
       "16     1st\n",
       "17     5th\n",
       "18    10th\n",
       "19     6th\n",
       "dtype: category\n",
       "Categories (10, object): [1st < 2nd < 3rd < 4th ... 7th < 8th < 9th < 10th]"
      ]
     },
     "execution_count": 160,
     "metadata": {},
     "output_type": "execute_result"
    }
   ],
   "source": [
    "ser"
   ]
  },
  {
   "cell_type": "code",
   "execution_count": 214,
   "metadata": {},
   "outputs": [
    {
     "name": "stdout",
     "output_type": "stream",
     "text": [
      "0     Apple\n",
      "1    Orange\n",
      "2      Plan\n",
      "3    Python\n",
      "4     Money\n",
      "dtype: object\n",
      "\n",
      "0     Apple\n",
      "1    Orange\n",
      "2     Money\n",
      "dtype: object\n"
     ]
    }
   ],
   "source": [
    "# Da variável ‘ser’ extraia palavras que contenham 2 vogais ou mais\n",
    "\n",
    "ser = pd.Series(['Apple', 'Orange', 'Plan', 'Python', 'Money'])\n",
    "vogais = ['a','e','i','o','u']\n",
    "dic = {}\n",
    "\n",
    "for i in ser:\n",
    "    dic[i] = 0\n",
    "    for j in i.lower():\n",
    "        if j in vogais:\n",
    "            dic[i] = dic[i] + 1\n",
    "\n",
    "dic_new = [k for k, v in dic.items() if v >= 2]\n",
    "ser_new = pd.Series(dic_new)\n",
    "\n",
    "print(ser, end='\\n\\n')\n",
    "print(ser_new)"
   ]
  },
  {
   "cell_type": "code",
   "execution_count": 220,
   "metadata": {},
   "outputs": [
    {
     "data": {
      "text/plain": [
       "1    rameses@egypt.com\n",
       "2            matt@t.co\n",
       "3    narendra@modi.com\n",
       "dtype: object"
      ]
     },
     "execution_count": 220,
     "metadata": {},
     "output_type": "execute_result"
    }
   ],
   "source": [
    "#Extraia emails válidos da série ’emails’. O padrão de regex para emails válidos é fornecido em ‘padrao’.\n",
    "\n",
    "emails = pd.Series(['buying books at amazom.com', 'rameses@egypt.com', 'matt@t.co', 'narendra@modi.com'])\n",
    "padrao ='[A-Za-z0-9._%+-]+@[A-Za-z0-9.-]+\\\\.[A-Za-z]{2,4}'\n",
    "\n",
    "emails[emails.str.contains(padrao, regex=True)]"
   ]
  },
  {
   "cell_type": "code",
   "execution_count": null,
   "metadata": {},
   "outputs": [],
   "source": []
  }
 ],
 "metadata": {
  "kernelspec": {
   "display_name": "Python 3",
   "language": "python",
   "name": "python3"
  },
  "language_info": {
   "codemirror_mode": {
    "name": "ipython",
    "version": 3
   },
   "file_extension": ".py",
   "mimetype": "text/x-python",
   "name": "python",
   "nbconvert_exporter": "python",
   "pygments_lexer": "ipython3",
   "version": "3.7.0"
  }
 },
 "nbformat": 4,
 "nbformat_minor": 2
}
